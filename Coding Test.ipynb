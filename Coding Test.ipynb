{
  "cells": [
    {
      "cell_type": "code",
      "execution_count": 5,
      "metadata": {
        "colab": {
          "base_uri": "https://localhost:8080/"
        },
        "id": "4-hyEWPIMpa_",
        "outputId": "037908d7-7305-41c2-f7a4-0c8cb3c56cce"
      },
      "outputs": [
        {
          "name": "stdout",
          "output_type": "stream",
          "text": [
            "['AAA', 'CCC']\n"
          ]
        }
      ],
      "source": [
        "# define an array of string\n",
        "string_array = []\n",
        "\n",
        "# create a While loop for the lines below\n",
        "while True:\n",
        "    # ask the user input a string of text\n",
        "    user_input = input(\"Please enter a string of text: \")\n",
        "    # when there is a string input from the user, store the string to the array of string\n",
        "    if user_input:\n",
        "        string_array.append(user_input)\n",
        "    # when the user input is empty, exit the While loop.\n",
        "    else:\n",
        "        break\n",
        "\n",
        "# Print the current array of string\n",
        "print(string_array)"
      ]
    },
    {
      "cell_type": "code",
      "execution_count": 5,
      "metadata": {},
      "outputs": [
        {
          "name": "stdout",
          "output_type": "stream",
          "text": [
            "123\n"
          ]
        },
        {
          "data": {
            "text/plain": [
              "str"
            ]
          },
          "execution_count": 5,
          "metadata": {},
          "output_type": "execute_result"
        }
      ],
      "source": [
        "input_text = None\n",
        "input_text = \"123\"\n",
        "print (input_text)\n",
        "type (input_text)"
      ]
    }
  ],
  "metadata": {
    "colab": {
      "authorship_tag": "ABX9TyOy57bn10HdGSge3twK+ukU",
      "provenance": []
    },
    "kernelspec": {
      "display_name": "Python 3",
      "name": "python3"
    },
    "language_info": {
      "codemirror_mode": {
        "name": "ipython",
        "version": 3
      },
      "file_extension": ".py",
      "mimetype": "text/x-python",
      "name": "python",
      "nbconvert_exporter": "python",
      "pygments_lexer": "ipython3",
      "version": "3.8.16"
    }
  },
  "nbformat": 4,
  "nbformat_minor": 0
}
