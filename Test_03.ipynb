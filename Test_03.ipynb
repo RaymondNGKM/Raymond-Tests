{
  "nbformat": 4,
  "nbformat_minor": 0,
  "metadata": {
    "colab": {
      "provenance": [],
      "authorship_tag": "ABX9TyOy57bn10HdGSge3twK+ukU"
    },
    "kernelspec": {
      "name": "python3",
      "display_name": "Python 3"
    },
    "language_info": {
      "name": "python"
    }
  },
  "cells": [
    {
      "cell_type": "code",
      "execution_count": 1,
      "metadata": {
        "colab": {
          "base_uri": "https://localhost:8080/"
        },
        "id": "4-hyEWPIMpa_",
        "outputId": "037908d7-7305-41c2-f7a4-0c8cb3c56cce"
      },
      "outputs": [
        {
          "output_type": "stream",
          "name": "stdout",
          "text": [
            "Hello World on 22 Feb 2023-2\n"
          ]
        }
      ],
      "source": [
        "print (\"Hello World on 22 Feb 2023-2\")"
      ]
    }
  ]
}