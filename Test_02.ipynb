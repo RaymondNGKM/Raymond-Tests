{
  "cells": [
    {
      "cell_type": "code",
      "execution_count": 1,
      "metadata": {
        "colab": {
          "base_uri": "https://localhost:8080/"
        },
        "id": "4-hyEWPIMpa_",
        "outputId": "c8f2ebea-34fb-4684-cb98-a526912a5ca5"
      },
      "outputs": [
        {
          "name": "stdout",
          "output_type": "stream",
          "text": [
            "Hello World on 22 Feb 2023-1\n"
          ]
        }
      ],
      "source": [
        "print (\"Hello World on 13 March 2023\")"
      ]
    }
  ],
  "metadata": {
    "colab": {
      "authorship_tag": "ABX9TyNJ8vOF9ARdeoYHI2Xn8iX4",
      "provenance": []
    },
    "kernelspec": {
      "display_name": "Python 3",
      "name": "python3"
    },
    "language_info": {
      "name": "python"
    }
  },
  "nbformat": 4,
  "nbformat_minor": 0
}
