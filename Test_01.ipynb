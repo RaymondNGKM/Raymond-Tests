{
  "nbformat": 4,
  "nbformat_minor": 0,
  "metadata": {
    "colab": {
      "provenance": [],
      "authorship_tag": "ABX9TyO09yNRKOUrweB35CbzFmB9"
    },
    "kernelspec": {
      "name": "python3",
      "display_name": "Python 3"
    },
    "language_info": {
      "name": "python"
    }
  },
  "cells": [
    {
      "cell_type": "code",
      "execution_count": null,
      "metadata": {
        "colab": {
          "base_uri": "https://localhost:8080/"
        },
        "id": "4-hyEWPIMpa_",
        "outputId": "5cf17a05-3fbb-40de-f4c7-8a4c87bb3dba"
      },
      "outputs": [
        {
          "output_type": "stream",
          "name": "stdout",
          "text": [
            "Hello World on 22 Feb 2023-2\n"
          ]
        }
      ],
      "source": [
        "print (\"Hello World on 13 March Feb 2023-2\")"
      ]
    }
  ]
}