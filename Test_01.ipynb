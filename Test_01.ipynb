{
  "nbformat": 4,
  "nbformat_minor": 0,
  "metadata": {
    "colab": {
      "provenance": [],
      "authorship_tag": "ABX9TyNrJxHzaPeSJsBPMUKVbhcL"
    },
    "kernelspec": {
      "name": "python3",
      "display_name": "Python 3"
    },
    "language_info": {
      "name": "python"
    }
  },
  "cells": [
    {
      "cell_type": "code",
      "execution_count": 1,
      "metadata": {
        "colab": {
          "base_uri": "https://localhost:8080/"
        },
        "id": "4-hyEWPIMpa_",
        "outputId": "5b30817c-7dc1-429b-ffe0-56326c2c53c5"
      },
      "outputs": [
        {
          "output_type": "stream",
          "name": "stdout",
          "text": [
            "Hello World on 21 Feb 2023-1\n"
          ]
        }
      ],
      "source": [
        "print (\"Hello World on 21 Feb 2023-1\")"
      ]
    }
  ]
}