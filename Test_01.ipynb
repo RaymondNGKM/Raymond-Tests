{
  "nbformat": 4,
  "nbformat_minor": 0,
  "metadata": {
    "colab": {
      "provenance": [],
      "authorship_tag": "ABX9TyMHX2U5j547xgi9c9goSbaw"
    },
    "kernelspec": {
      "name": "python3",
      "display_name": "Python 3"
    },
    "language_info": {
      "name": "python"
    }
  },
  "cells": [
    {
      "cell_type": "code",
      "execution_count": 1,
      "metadata": {
        "colab": {
          "base_uri": "https://localhost:8080/"
        },
        "id": "4-hyEWPIMpa_",
        "outputId": "c34b3cd6-f077-4b7c-ed6a-53be7dd4f2b1"
      },
      "outputs": [
        {
          "output_type": "stream",
          "name": "stdout",
          "text": [
            "Hello World on 15 Feb 2023-1\n"
          ]
        }
      ],
      "source": [
        "print (\"Hello World on 15 Feb 2023-1\")"
      ]
    }
  ]
}